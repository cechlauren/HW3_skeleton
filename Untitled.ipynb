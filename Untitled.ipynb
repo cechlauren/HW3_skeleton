{
 "cells": [
  {
   "cell_type": "code",
   "execution_count": 2,
   "metadata": {},
   "outputs": [],
   "source": [
    "import glob\n",
    "import os\n",
    "def read_aa_sequences(dir):\n",
    "    \"\"\"\n",
    "    Read in all of the protein sequences from the given directory.\n",
    "\n",
    "    Input: directory\n",
    "    Output: list of protein sequences\n",
    "    \"\"\"\n",
    "    files = glob.glob(dir + '/*.fa')\n",
    "\n",
    "    aa_sequences = []\n",
    "    # iterate over each .fa file in the given directory\n",
    "    for filepath in glob.iglob(os.path.join(dir, \"*.fa\")):\n",
    "\n",
    "        aa_sequences.append(read_aa_sequence(filepath))\n",
    "\n",
    "    print(\"Read in %d amino acid sequences\"%len(aa_sequences))\n",
    "\n",
    "    return aa_sequences \n",
    "\n"
   ]
  },
  {
   "cell_type": "code",
   "execution_count": 3,
   "metadata": {},
   "outputs": [
    {
     "name": "stdout",
     "output_type": "stream",
     "text": [
      "/Users/lcech/BMI203/HW3_skeleton\n"
     ]
    }
   ],
   "source": [
    "!pwd\n"
   ]
  },
  {
   "cell_type": "code",
   "execution_count": 4,
   "metadata": {},
   "outputs": [],
   "source": [
    "def read_aa_sequence(filepath):\n",
    "    \"\"\"\n",
    "    Read in a single amino acid sequence given a fasta file\n",
    "\n",
    "    Input: fasta file path\n",
    "    Output: amino acid sequence instance\n",
    "    \"\"\"\n",
    "    basename = os.path.basename(filepath)\n",
    "    name = os.path.splitext(basename)\n",
    "\n",
    "    if name[1] != \".fa\":\n",
    "        raise IOError(\"%s is not a fasta file\"%filepath)\n",
    "\n",
    "    aa_sequence = AASeq(name[0])\n",
    "\n",
    "\n",
    "    # open .fa file\n",
    "    with open(filepath, \"r\") as f:\n",
    "        # iterate over each line in the file\n",
    "        part_sequence = f.read().splitlines()  \n",
    "        \n",
    "    aa_sequence.part_sequence.append()\n",
    "       \n",
    "\n",
    "    return aa_sequence "
   ]
  },
  {
   "cell_type": "code",
   "execution_count": 5,
   "metadata": {},
   "outputs": [
    {
     "ename": "NameError",
     "evalue": "name 'AASeq' is not defined",
     "output_type": "error",
     "traceback": [
      "\u001b[0;31m---------------------------------------------------------------------------\u001b[0m",
      "\u001b[0;31mNameError\u001b[0m                                 Traceback (most recent call last)",
      "\u001b[0;32m<ipython-input-5-9dd5579a9555>\u001b[0m in \u001b[0;36m<module>\u001b[0;34m\u001b[0m\n\u001b[0;32m----> 1\u001b[0;31m \u001b[0mread_aa_sequence\u001b[0m\u001b[0;34m(\u001b[0m\u001b[0;34m\"/Users/lcech/BMI203/HW3_skeleton/sequences/prot-0004.fa\"\u001b[0m\u001b[0;34m)\u001b[0m\u001b[0;34m\u001b[0m\u001b[0;34m\u001b[0m\u001b[0m\n\u001b[0m",
      "\u001b[0;32m<ipython-input-4-e58483a88656>\u001b[0m in \u001b[0;36mread_aa_sequence\u001b[0;34m(filepath)\u001b[0m\n\u001b[1;32m     12\u001b[0m         \u001b[0;32mraise\u001b[0m \u001b[0mIOError\u001b[0m\u001b[0;34m(\u001b[0m\u001b[0;34m\"%s is not a fasta file\"\u001b[0m\u001b[0;34m%\u001b[0m\u001b[0mfilepath\u001b[0m\u001b[0;34m)\u001b[0m\u001b[0;34m\u001b[0m\u001b[0;34m\u001b[0m\u001b[0m\n\u001b[1;32m     13\u001b[0m \u001b[0;34m\u001b[0m\u001b[0m\n\u001b[0;32m---> 14\u001b[0;31m     \u001b[0maa_sequence\u001b[0m \u001b[0;34m=\u001b[0m \u001b[0mAASeq\u001b[0m\u001b[0;34m(\u001b[0m\u001b[0mname\u001b[0m\u001b[0;34m[\u001b[0m\u001b[0;36m0\u001b[0m\u001b[0;34m]\u001b[0m\u001b[0;34m)\u001b[0m\u001b[0;34m\u001b[0m\u001b[0;34m\u001b[0m\u001b[0m\n\u001b[0m\u001b[1;32m     15\u001b[0m \u001b[0;34m\u001b[0m\u001b[0m\n\u001b[1;32m     16\u001b[0m \u001b[0;34m\u001b[0m\u001b[0m\n",
      "\u001b[0;31mNameError\u001b[0m: name 'AASeq' is not defined"
     ]
    }
   ],
   "source": [
    "read_aa_sequence(\"/Users/lcech/BMI203/HW3_skeleton/sequences/prot-0004.fa\")"
   ]
  },
  {
   "cell_type": "code",
   "execution_count": null,
   "metadata": {},
   "outputs": [],
   "source": []
  }
 ],
 "metadata": {
  "kernelspec": {
   "display_name": "Python 3",
   "language": "python",
   "name": "python3"
  },
  "language_info": {
   "codemirror_mode": {
    "name": "ipython",
    "version": 3
   },
   "file_extension": ".py",
   "mimetype": "text/x-python",
   "name": "python",
   "nbconvert_exporter": "python",
   "pygments_lexer": "ipython3",
   "version": "3.7.3"
  }
 },
 "nbformat": 4,
 "nbformat_minor": 4
}
