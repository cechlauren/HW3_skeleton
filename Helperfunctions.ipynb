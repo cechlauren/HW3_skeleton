{
 "cells": [
  {
   "cell_type": "code",
   "execution_count": 1,
   "metadata": {},
   "outputs": [],
   "source": [
    "from hw3align.sequences import *\n",
    "from hw3align.getmatrix import blosum50\n",
    "from hw3align.getmatrix import blosum62\n",
    "from hw3align.getmatrix import pam100\n",
    "from hw3align.getmatrix import pam250\n",
    "from hw3align.getmatrix import matio\n",
    "from hw3align.optimalmatrix import *\n",
    "from hw3align.optimalgaps import *\n",
    "from hw3align.smithwaterman import sw\n",
    "from hw3align.getseq import *\n",
    "from hw3align.roc import *\n",
    "\n",
    "from hw3align.optimalmatrix import *\n",
    "import sys\n",
    "import matplotlib.pyplot as plt\n",
    "import sklearn.metrics as skm"
   ]
  },
  {
   "cell_type": "code",
   "execution_count": null,
   "metadata": {},
   "outputs": [],
   "source": [
    "#optimizeMatrix_geneticAlg(blosum50, mutationChance, mutationAmount,\n",
    "\t#selectivePressure, N, totalStepsToStop, stepsWithNoImprovement,\n",
    "\t#librarySize, gap_start, gap_extend, true_pos_align, true_neg_align):"
   ]
  },
  {
   "cell_type": "code",
   "execution_count": 2,
   "metadata": {},
   "outputs": [],
   "source": [
    "true_pos_align, true_neg_align = getAlignments(scorematrix=blosum50, gap_start=-8, gap_extend= -3)"
   ]
  },
  {
   "cell_type": "code",
   "execution_count": null,
   "metadata": {},
   "outputs": [],
   "source": [
    "true_pos_align[7]"
   ]
  },
  {
   "cell_type": "code",
   "execution_count": null,
   "metadata": {},
   "outputs": [],
   "source": [
    "testA, testB = true_pos_align[7]\n",
    "scoreAlignment(testA, testB, blosum50, -8, -3)"
   ]
  },
  {
   "cell_type": "code",
   "execution_count": null,
   "metadata": {},
   "outputs": [],
   "source": []
  },
  {
   "cell_type": "code",
   "execution_count": null,
   "metadata": {},
   "outputs": [],
   "source": [
    "makeRocPlot_normScoresLC(blosum62, -8, -3, \" blosum62\")"
   ]
  },
  {
   "cell_type": "code",
   "execution_count": 22,
   "metadata": {},
   "outputs": [],
   "source": [
    "pop, scores, library, objectiveMeans = optimizeMatrix_geneticAlg(blosum50, 1, 1, 2, 10, 5, 5, 3, -8, -3, true_pos_align, true_neg_align)\n"
   ]
  },
  {
   "cell_type": "code",
   "execution_count": 4,
   "metadata": {},
   "outputs": [
    {
     "name": "stdout",
     "output_type": "stream",
     "text": [
      "10\n"
     ]
    }
   ],
   "source": [
    "print(len(pop))"
   ]
  },
  {
   "cell_type": "code",
   "execution_count": 5,
   "metadata": {},
   "outputs": [
    {
     "name": "stdout",
     "output_type": "stream",
     "text": [
      "10\n"
     ]
    }
   ],
   "source": [
    "print(len(scores))"
   ]
  },
  {
   "cell_type": "code",
   "execution_count": 6,
   "metadata": {},
   "outputs": [
    {
     "name": "stdout",
     "output_type": "stream",
     "text": [
      "3\n"
     ]
    }
   ],
   "source": [
    "print(len(library))"
   ]
  },
  {
   "cell_type": "code",
   "execution_count": 7,
   "metadata": {},
   "outputs": [
    {
     "name": "stdout",
     "output_type": "stream",
     "text": [
      "6\n"
     ]
    }
   ],
   "source": [
    "print(len(objectiveMeans))"
   ]
  },
  {
   "cell_type": "code",
   "execution_count": 23,
   "metadata": {},
   "outputs": [
    {
     "name": "stdout",
     "output_type": "stream",
     "text": [
      "[2.079999999999999, 2.1079999999999997, 2.0439999999999996, 2.16, 2.224, 2.252]\n"
     ]
    }
   ],
   "source": [
    "print(objectiveMeans)"
   ]
  },
  {
   "cell_type": "code",
   "execution_count": 24,
   "metadata": {},
   "outputs": [
    {
     "name": "stdout",
     "output_type": "stream",
     "text": [
      "[2.66, 1.96, 1.8399999999999999, 1.96, 2.24, 2.3, 2.42, 2.3, 2.3, 2.54]\n"
     ]
    }
   ],
   "source": [
    "print(scores)"
   ]
  },
  {
   "cell_type": "code",
   "execution_count": 25,
   "metadata": {},
   "outputs": [
    {
     "name": "stdout",
     "output_type": "stream",
     "text": [
      "{2.58: {frozenset({'A'}): 1.9914857652661302, frozenset({'R', 'A'}): -1.1916647082913068, frozenset({'N', 'A'}): -2.898916283895523, frozenset({'D', 'A'}): -2.8636615513684682, frozenset({'C', 'A'}): 0.740906696627901, frozenset({'A', 'Q'}): -3.6320811221946805, frozenset({'E', 'A'}): -1.5016907876167298, frozenset({'G', 'A'}): 1.5578899566463278, frozenset({'A', 'H'}): -0.3785378051978747, frozenset({'A', 'I'}): 0.6201599695665443, frozenset({'A', 'L'}): -4.8683779369592965, frozenset({'A', 'K'}): -2.5720563112083585, frozenset({'M', 'A'}): -2.8686814244825753, frozenset({'F', 'A'}): -2.823031839078821, frozenset({'P', 'A'}): 0.8888394984039537, frozenset({'A', 'S'}): -0.13952443623556954, frozenset({'T', 'A'}): 0.5812742898777603, frozenset({'W', 'A'}): -3.072348155466799, frozenset({'Y', 'A'}): -1.4042795878941658, frozenset({'V', 'A'}): 0.8267284210624242, frozenset({'B', 'A'}): -0.7190043594455824, frozenset({'Z', 'A'}): 0.5317944535538457, frozenset({'X', 'A'}): -2.0449443600353434, frozenset({'*', 'A'}): -1.902665087830795, frozenset({'R'}): 9.345921633502787, frozenset({'N', 'R'}): -2.916829099677675, frozenset({'R', 'D'}): -4.313395328143952, frozenset({'C', 'R'}): -5.029592069297726, frozenset({'R', 'Q'}): -0.6340368272953985, frozenset({'E', 'R'}): -1.2614824233941253, frozenset({'R', 'G'}): -2.5624776245359056, frozenset({'R', 'H'}): -2.164910419683903, frozenset({'R', 'I'}): -4.816240774418258, frozenset({'R', 'L'}): -1.6500708650773575, frozenset({'R', 'K'}): 4.259137368654898, frozenset({'M', 'R'}): -2.1698548403065194, frozenset({'R', 'F'}): -8.036156580350962, frozenset({'P', 'R'}): -3.927637662292444, frozenset({'R', 'S'}): -2.6699678088813315, frozenset({'T', 'R'}): 1.211204970439354, frozenset({'W', 'R'}): -1.7329100625000244, frozenset({'R', 'Y'}): -0.7369728952980473, frozenset({'R', 'V'}): -2.4180911853528557, frozenset({'R', 'B'}): -0.815580332074299, frozenset({'R', 'Z'}): -3.741663037634604, frozenset({'R', 'X'}): -3.3796333371271086, frozenset({'R', '*'}): -4.325717120439861, frozenset({'N'}): 8.443493190626949, frozenset({'N', 'D'}): 3.5395222926826655, frozenset({'N', 'C'}): -3.4984388660258334, frozenset({'N', 'Q'}): -0.34548035594844095, frozenset({'N', 'E'}): 0.7727898847599359, frozenset({'N', 'G'}): -0.9865077518706754, frozenset({'N', 'H'}): 0.7426182372958992, frozenset({'N', 'I'}): -2.8459361869315165, frozenset({'N', 'L'}): -7.9005627339866455, frozenset({'N', 'K'}): -0.3814337826270514, frozenset({'N', 'M'}): 2.0659356694972515, frozenset({'N', 'F'}): -3.795442344810429, frozenset({'N', 'P'}): -1.3627435585680243, frozenset({'N', 'S'}): 1.122112545741698, frozenset({'N', 'T'}): -0.900353244729356, frozenset({'N', 'W'}): -3.1777238527057485, frozenset({'N', 'Y'}): -0.8540674720227416, frozenset({'N', 'V'}): -5.9132764873875265, frozenset({'N', 'B'}): 3.39092636945649, frozenset({'N', 'Z'}): 1.760238383463711, frozenset({'N', 'X'}): -0.11032192664794627, frozenset({'N', '*'}): -3.9935170171775667, frozenset({'D'}): 8.107896995757544, frozenset({'C', 'D'}): -4.27074970044439, frozenset({'D', 'Q'}): -1.2066831632872708, frozenset({'E', 'D'}): 1.533539459226537, frozenset({'G', 'D'}): -2.317343391288037, frozenset({'D', 'H'}): 2.8972938169034954, frozenset({'D', 'I'}): -1.670632243267798, frozenset({'D', 'L'}): -7.923557042109014, frozenset({'D', 'K'}): 1.6242047229211407, frozenset({'M', 'D'}): -1.7120222779037153, frozenset({'F', 'D'}): -2.872770959390286, frozenset({'P', 'D'}): -1.109763672967042, frozenset({'D', 'S'}): -2.9497405146252422, frozenset({'T', 'D'}): -0.728571132809271, frozenset({'W', 'D'}): -3.219662258289293, frozenset({'Y', 'D'}): -3.026939980016435, frozenset({'V', 'D'}): -5.181493351709945, frozenset({'B', 'D'}): 2.7171265546638397, frozenset({'D', 'Z'}): 3.6802569372449954, frozenset({'X', 'D'}): -3.136687017936236, frozenset({'*', 'D'}): -8.31912830362758, frozenset({'C'}): 11.793083929372022, frozenset({'C', 'Q'}): -2.06136755750819, frozenset({'C', 'E'}): -1.48007321329208, frozenset({'C', 'G'}): -2.2123710249278723, frozenset({'C', 'H'}): -4.692820127748387, frozenset({'C', 'I'}): -5.370857400598908, frozenset({'C', 'L'}): -1.2544250291039094, frozenset({'C', 'K'}): -2.9547621976325082, frozenset({'C', 'M'}): 1.4710421412882244, frozenset({'C', 'F'}): -5.022782347729484, frozenset({'C', 'P'}): -4.581784834781043, frozenset({'C', 'S'}): -3.328387963000471, frozenset({'C', 'T'}): -0.3369232871871126, frozenset({'C', 'W'}): -5.993839755450941, frozenset({'C', 'Y'}): -4.814999854442049, frozenset({'C', 'V'}): -0.7501287784189419, frozenset({'C', 'B'}): 0.04200296451629554, frozenset({'C', 'Z'}): -3.960810367596941, frozenset({'C', 'X'}): -4.504421955322667, frozenset({'C', '*'}): -4.298842679732278, frozenset({'Q'}): 7.692213918348386, frozenset({'E', 'Q'}): 2.9704475984004066, frozenset({'G', 'Q'}): -1.1956847746589478, frozenset({'H', 'Q'}): 1.8587101904249599, frozenset({'I', 'Q'}): -2.785531832180207, frozenset({'L', 'Q'}): -0.671655350854473, frozenset({'K', 'Q'}): 1.7177294659653466, frozenset({'M', 'Q'}): 0.06665670498366505, frozenset({'F', 'Q'}): -5.990657068253412, frozenset({'P', 'Q'}): -0.7727500941476477, frozenset({'S', 'Q'}): 2.6815950760297445, frozenset({'T', 'Q'}): -3.592383501973494, frozenset({'W', 'Q'}): -3.7312334498266666, frozenset({'Y', 'Q'}): -1.559642701240774, frozenset({'V', 'Q'}): -0.23078677692615113, frozenset({'B', 'Q'}): -1.5706706463874003, frozenset({'Z', 'Q'}): 8.430294397394283, frozenset({'X', 'Q'}): 1.03261209744558, frozenset({'*', 'Q'}): -6.862704058969493, frozenset({'E'}): 8.586715796215389, frozenset({'E', 'G'}): -4.138413169541503, frozenset({'E', 'H'}): 1.833850419351934, frozenset({'E', 'I'}): -3.5706396316717646, frozenset({'E', 'L'}): -4.392668224273021, frozenset({'E', 'K'}): 0.09186840241134486, frozenset({'E', 'M'}): -0.2817818725127641, frozenset({'E', 'F'}): -1.8790585472275463, frozenset({'E', 'P'}): -1.7125736275501875, frozenset({'E', 'S'}): -1.2532423803840205, frozenset({'E', 'T'}): -2.1164488524942744, frozenset({'E', 'W'}): -5.173621820082547, frozenset({'E', 'Y'}): -2.305271614717393, frozenset({'E', 'V'}): -3.2117219593204904, frozenset({'E', 'B'}): 0.7184537079165292, frozenset({'E', 'Z'}): 4.144508784545875, frozenset({'E', 'X'}): -1.0223967572619563, frozenset({'E', '*'}): -5.624108364853145, frozenset({'G'}): 5.501900599570405, frozenset({'G', 'H'}): -1.2409324279066734, frozenset({'G', 'I'}): -3.9225862793220276, frozenset({'G', 'L'}): -5.989656542048369, frozenset({'G', 'K'}): -0.7163637451145987, frozenset({'M', 'G'}): -2.0887341667750228, frozenset({'F', 'G'}): -6.072036529600179, frozenset({'P', 'G'}): -3.0473417868146653, frozenset({'G', 'S'}): 2.502752894529147, frozenset({'T', 'G'}): -1.3631981961796962, frozenset({'W', 'G'}): -4.795500518333079, frozenset({'Y', 'G'}): 1.1457549421325242, frozenset({'V', 'G'}): -1.070475469361412, frozenset({'B', 'G'}): 0.8224632956416721, frozenset({'G', 'Z'}): -2.3924571752326664, frozenset({'X', 'G'}): -1.8409875971849647, frozenset({'*', 'G'}): -6.788137237937204, frozenset({'H'}): 9.560340277920945, frozenset({'I', 'H'}): -3.9406771676992824, frozenset({'L', 'H'}): 0.9906421788639631, frozenset({'K', 'H'}): -2.091070823292829, frozenset({'M', 'H'}): -2.402110911308169, frozenset({'F', 'H'}): -0.040305269604896554, frozenset({'P', 'H'}): -1.0812254829677193, frozenset({'S', 'H'}): -4.452302111532366, frozenset({'T', 'H'}): -1.0143851829309583, frozenset({'W', 'H'}): -1.2917398129645372, frozenset({'Y', 'H'}): 0.9778474366749439, frozenset({'V', 'H'}): -3.697787593476309, frozenset({'B', 'H'}): 1.3588488460456032, frozenset({'Z', 'H'}): 2.5711568172994177, frozenset({'X', 'H'}): 0.24085692199679304, frozenset({'*', 'H'}): -3.2899148262564046, frozenset({'I'}): 5.654198229462645, frozenset({'L', 'I'}): 1.5913297069326409, frozenset({'K', 'I'}): -4.461767294549631, frozenset({'M', 'I'}): 2.7415767221961858, frozenset({'F', 'I'}): -0.653661828909879, frozenset({'P', 'I'}): -3.6278255622906235, frozenset({'S', 'I'}): -3.844310649712688, frozenset({'T', 'I'}): -1.4164352905578141, frozenset({'W', 'I'}): -5.916573252980844, frozenset({'Y', 'I'}): -3.465229844790385, frozenset({'V', 'I'}): 4.0552152461554485, frozenset({'B', 'I'}): -4.609619121092482, frozenset({'Z', 'I'}): -0.7031527631929584, frozenset({'X', 'I'}): -2.532240909903394, frozenset({'*', 'I'}): -4.2801191989143135, frozenset({'L'}): 8.973130416914957, frozenset({'K', 'L'}): -5.366439872719566, frozenset({'M', 'L'}): 3.6961380368508734, frozenset({'F', 'L'}): 1.8132771519170765, frozenset({'P', 'L'}): -3.8234151079081116, frozenset({'S', 'L'}): -2.771724011060233, frozenset({'T', 'L'}): -2.057848627844877, frozenset({'W', 'L'}): -5.323016100813341, frozenset({'Y', 'L'}): -2.9805357648471973, frozenset({'V', 'L'}): 2.2043682456795617, frozenset({'B', 'L'}): -5.798263689274845, frozenset({'Z', 'L'}): -2.767353244984453, frozenset({'X', 'L'}): -1.7158533463500563, frozenset({'*', 'L'}): -5.168092996275682, frozenset({'K'}): 6.63225897741902, frozenset({'M', 'K'}): -2.8249530930057096, frozenset({'F', 'K'}): -4.163562197978985, frozenset({'P', 'K'}): 0.9284069032282873, frozenset({'S', 'K'}): 0.5937372020649143, frozenset({'T', 'K'}): -1.0377710342933901, frozenset({'W', 'K'}): -4.536082394712032, frozenset({'Y', 'K'}): -2.4638947581506176, frozenset({'V', 'K'}): -2.6204323643076353, frozenset({'B', 'K'}): -1.355456802660371, frozenset({'Z', 'K'}): 2.3559080017444196, frozenset({'X', 'K'}): 0.6224252902829642, frozenset({'*', 'K'}): -4.601315287853514, frozenset({'M'}): 8.201063434089724, frozenset({'M', 'F'}): -0.24022342683892695, frozenset({'M', 'P'}): -2.638491049463347, frozenset({'M', 'S'}): 1.5598596774692242, frozenset({'T', 'M'}): -3.205984467450135, frozenset({'W', 'M'}): -1.2658258746540514, frozenset({'M', 'Y'}): -1.9954395606731468, frozenset({'M', 'V'}): 2.604275741336364, frozenset({'M', 'B'}): -3.0025622184141074, frozenset({'M', 'Z'}): 0.0516101580669302, frozenset({'M', 'X'}): -3.109305310446863, frozenset({'M', '*'}): -6.5390176705184215, frozenset({'F'}): 9.11102591382507, frozenset({'P', 'F'}): -2.859185638360777, frozenset({'F', 'S'}): -2.457573069455827, frozenset({'T', 'F'}): -2.577569986940354, frozenset({'W', 'F'}): 3.604608509454054, frozenset({'F', 'Y'}): 5.020119579996511, frozenset({'F', 'V'}): 0.015034822294364147, frozenset({'F', 'B'}): -4.375705538055439, frozenset({'F', 'Z'}): -5.042776732925071, frozenset({'F', 'X'}): -4.31784069584096, frozenset({'F', '*'}): -5.130927670243653, frozenset({'P'}): 11.631065720707957, frozenset({'P', 'S'}): -0.014029904958460016, frozenset({'T', 'P'}): -0.2092705150966796, frozenset({'W', 'P'}): -3.728043216474729, frozenset({'P', 'Y'}): -4.826633046246295, frozenset({'P', 'V'}): -7.974299174003335, frozenset({'P', 'B'}): -1.2237420566476485, frozenset({'P', 'Z'}): -1.150695630477501, frozenset({'P', 'X'}): -2.0181598346287823, frozenset({'P', '*'}): -2.5071389179212717, frozenset({'S'}): 5.922115325894579, frozenset({'T', 'S'}): 4.444901309811869, frozenset({'W', 'S'}): -3.5177080578169067, frozenset({'Y', 'S'}): -0.8658721248245933, frozenset({'V', 'S'}): -0.21768799121767818, frozenset({'B', 'S'}): 1.1636722177741967, frozenset({'Z', 'S'}): 0.9680718598260246, frozenset({'X', 'S'}): 1.3258715282425544, frozenset({'*', 'S'}): -3.973126371204099, frozenset({'T'}): 6.65181012173232, frozenset({'T', 'W'}): -3.9739268429727925, frozenset({'T', 'Y'}): -3.529203382086643, frozenset({'T', 'V'}): 0.19166000524327886, frozenset({'T', 'B'}): -1.9419924385532774, frozenset({'T', 'Z'}): 0.23885741816005823, frozenset({'T', 'X'}): 0.4933529619392407, frozenset({'T', '*'}): -3.8852357963634248, frozenset({'W'}): 13.734812191149043, frozenset({'W', 'Y'}): -1.7720982624827668, frozenset({'W', 'V'}): -1.3180964122545213, frozenset({'W', 'B'}): -5.526685192962804, frozenset({'W', 'Z'}): -4.346017005816814, frozenset({'W', 'X'}): -4.140156706805439, frozenset({'W', '*'}): -3.78781143117733, frozenset({'Y'}): 10.270140494014761, frozenset({'V', 'Y'}): -0.31398584604230795, frozenset({'B', 'Y'}): -5.148966400524268, frozenset({'Y', 'Z'}): -0.5806617983460609, frozenset({'X', 'Y'}): -2.174596276708209, frozenset({'*', 'Y'}): -4.9359486323324315, frozenset({'V'}): 6.238313201454615, frozenset({'B', 'V'}): -2.486666863633551, frozenset({'V', 'Z'}): -1.6179179371328316, frozenset({'X', 'V'}): -1.502371883712655, frozenset({'*', 'V'}): -2.285966041231208, frozenset({'B'}): 5.181249625626423, frozenset({'B', 'Z'}): 2.724068918081338, frozenset({'X', 'B'}): -1.581188369678032, frozenset({'*', 'B'}): -2.2877682567396764, frozenset({'Z'}): 1.830187418536352, frozenset({'X', 'Z'}): -1.824691387097646, frozenset({'*', 'Z'}): -5.5649589259869945, frozenset({'X'}): -0.005167186749972297, frozenset({'X', '*'}): -4.523740701756988, frozenset({'*'}): 3.301241467879324}, 2.7: {frozenset({'A'}): 2.3563619036925165, frozenset({'R', 'A'}): -1.557217132312337, frozenset({'N', 'A'}): -3.846873844490045, frozenset({'D', 'A'}): -0.09989823195455674, frozenset({'C', 'A'}): -1.6021675884263766, frozenset({'A', 'Q'}): -1.6400350049102967, frozenset({'E', 'A'}): 0.4019873426152891, frozenset({'G', 'A'}): 5.687181725554882, frozenset({'A', 'H'}): -1.4218890388112837, frozenset({'A', 'I'}): 1.435766840876509, frozenset({'A', 'L'}): -3.967643588340859, frozenset({'A', 'K'}): -0.2797689826055457, frozenset({'M', 'A'}): 0.20528468113239473, frozenset({'F', 'A'}): -4.078860640940921, frozenset({'P', 'A'}): 0.7395240022268473, frozenset({'A', 'S'}): -1.5103750123122148, frozenset({'T', 'A'}): 4.852366549907635, frozenset({'W', 'A'}): 0.3619673600189148, frozenset({'Y', 'A'}): -3.0198923426800164, frozenset({'V', 'A'}): 0.6602961975974271, frozenset({'B', 'A'}): 0.9543910599093295, frozenset({'Z', 'A'}): 0.6946327935643324, frozenset({'X', 'A'}): -0.8896923676562865, frozenset({'*', 'A'}): -1.2943572382848334, frozenset({'R'}): 7.66715474527908, frozenset({'N', 'R'}): -3.0677850466673995, frozenset({'R', 'D'}): 0.028201950524662234, frozenset({'C', 'R'}): -2.8100052494816654, frozenset({'R', 'Q'}): 1.347287578114241, frozenset({'E', 'R'}): -3.575362894611014, frozenset({'R', 'G'}): -9.503846842111773, frozenset({'R', 'H'}): -4.121600122842457, frozenset({'R', 'I'}): -2.8066445282749006, frozenset({'R', 'L'}): 1.1429640305780084, frozenset({'R', 'K'}): 3.252959575096545, frozenset({'M', 'R'}): -2.8468320651588126, frozenset({'R', 'F'}): -4.705311308506441, frozenset({'P', 'R'}): -1.9969881931897935, frozenset({'R', 'S'}): -0.5656924426787042, frozenset({'T', 'R'}): 1.699449151686328, frozenset({'W', 'R'}): 0.3682968319484116, frozenset({'R', 'Y'}): 2.283141785690637, frozenset({'R', 'V'}): -3.1911367377500013, frozenset({'R', 'B'}): -2.5022737609999828, frozenset({'R', 'Z'}): -1.2732317182206518, frozenset({'R', 'X'}): -2.43241298298474, frozenset({'R', '*'}): -2.2453665922434975, frozenset({'N'}): 7.641106692197972, frozenset({'N', 'D'}): 4.502313566725868, frozenset({'N', 'C'}): 1.2520188867108035, frozenset({'N', 'Q'}): -0.6099809638403281, frozenset({'N', 'E'}): -1.5110142264083928, frozenset({'N', 'G'}): -1.608533406504558, frozenset({'N', 'H'}): -2.0808871003163336, frozenset({'N', 'I'}): -2.2968863148360654, frozenset({'N', 'L'}): -3.7838462885419424, frozenset({'N', 'K'}): -3.273438861341231, frozenset({'N', 'M'}): -0.3028481019885587, frozenset({'N', 'F'}): -2.489690097332844, frozenset({'N', 'P'}): -0.9643878375061579, frozenset({'N', 'S'}): 0.07734004149704221, frozenset({'N', 'T'}): -0.2907677435466936, frozenset({'N', 'W'}): -3.8566977926226986, frozenset({'N', 'Y'}): 0.06782558057159571, frozenset({'N', 'V'}): -0.43871182311020984, frozenset({'N', 'B'}): 2.52454012346747, frozenset({'N', 'Z'}): 1.578615168846069, frozenset({'N', 'X'}): -2.1794104016430045, frozenset({'N', '*'}): -5.305611416268863, frozenset({'D'}): 9.021490891540042, frozenset({'C', 'D'}): -1.48175152064904, frozenset({'D', 'Q'}): -1.3573455853832515, frozenset({'E', 'D'}): -0.5423977709096501, frozenset({'G', 'D'}): -1.6124698972049565, frozenset({'D', 'H'}): 2.8502738535974936, frozenset({'D', 'I'}): -4.34708503994852, frozenset({'D', 'L'}): -8.542085550366643, frozenset({'D', 'K'}): 2.08095521856682, frozenset({'M', 'D'}): -2.9098013041529223, frozenset({'F', 'D'}): -3.384308051131527, frozenset({'P', 'D'}): -0.20501070158839485, frozenset({'D', 'S'}): -2.53639754163735, frozenset({'T', 'D'}): -0.737709667883018, frozenset({'W', 'D'}): -1.347912270653485, frozenset({'Y', 'D'}): -2.096547560828012, frozenset({'V', 'D'}): -1.4875032118858575, frozenset({'B', 'D'}): 0.6181957961908777, frozenset({'D', 'Z'}): 2.4143976364445625, frozenset({'X', 'D'}): -2.9648076127271206, frozenset({'*', 'D'}): -9.910107528107488, frozenset({'C'}): 10.737506488702797, frozenset({'C', 'Q'}): -3.675236300503483, frozenset({'C', 'E'}): -0.8288434127688085, frozenset({'C', 'G'}): 0.4266132582904913, frozenset({'C', 'H'}): -2.2271787011020905, frozenset({'C', 'I'}): -2.7488947326670288, frozenset({'C', 'L'}): -0.5228197984800655, frozenset({'C', 'K'}): -3.210846434580163, frozenset({'C', 'M'}): 0.7665753326925414, frozenset({'C', 'F'}): -4.706139783643667, frozenset({'C', 'P'}): -6.115146031660506, frozenset({'C', 'S'}): -0.6227576340489662, frozenset({'C', 'T'}): 1.7687031101172652, frozenset({'C', 'W'}): -6.567673471260513, frozenset({'C', 'Y'}): -4.200010805190207, frozenset({'C', 'V'}): -0.8775107153864097, frozenset({'C', 'B'}): 0.49063919712146087, frozenset({'C', 'Z'}): -2.7894881036347736, frozenset({'C', 'X'}): -5.188644936656825, frozenset({'C', '*'}): -3.8274651174609997, frozenset({'Q'}): 5.763147627768028, frozenset({'E', 'Q'}): 4.465790711438867, frozenset({'G', 'Q'}): -3.2740822692485168, frozenset({'H', 'Q'}): 0.01888326432791132, frozenset({'I', 'Q'}): -6.0933543168021975, frozenset({'L', 'Q'}): -0.7910139473141727, frozenset({'K', 'Q'}): 0.7866800963127469, frozenset({'M', 'Q'}): -2.3473911137025962, frozenset({'F', 'Q'}): -2.651826154589438, frozenset({'P', 'Q'}): -6.86885775744728, frozenset({'S', 'Q'}): 4.133958886101798, frozenset({'T', 'Q'}): -2.207652751643897, frozenset({'W', 'Q'}): -2.856106590990604, frozenset({'Y', 'Q'}): -1.7119736046978313, frozenset({'V', 'Q'}): -2.972070239288959, frozenset({'B', 'Q'}): -4.516064403998796, frozenset({'Z', 'Q'}): 6.9874747536990895, frozenset({'X', 'Q'}): -1.28054067682431, frozenset({'*', 'Q'}): -3.08115254933422, frozenset({'E'}): 7.861595217369402, frozenset({'E', 'G'}): -7.7756389234620915, frozenset({'E', 'H'}): 0.9683667447922177, frozenset({'E', 'I'}): -3.8205659997139225, frozenset({'E', 'L'}): -4.435311954401781, frozenset({'E', 'K'}): -1.595217316125429, frozenset({'E', 'M'}): 3.78396004828181, frozenset({'E', 'F'}): -3.7070649637016873, frozenset({'E', 'P'}): 0.1651416629832203, frozenset({'E', 'S'}): 1.1902518365458838, frozenset({'E', 'T'}): 1.65558436707986, frozenset({'E', 'W'}): -1.973724741020114, frozenset({'E', 'Y'}): -4.099851940491143, frozenset({'E', 'V'}): -1.0062679652364985, frozenset({'E', 'B'}): -0.35813233133491523, frozenset({'E', 'Z'}): 2.6945178037918542, frozenset({'E', 'X'}): -1.3520976455545335, frozenset({'E', '*'}): -4.129557683536588, frozenset({'G'}): 5.648319346932748, frozenset({'G', 'H'}): -5.600679763233569, frozenset({'G', 'I'}): -3.505276648537523, frozenset({'G', 'L'}): -2.749475831440243, frozenset({'G', 'K'}): 0.38776082252722666, frozenset({'M', 'G'}): -4.03498259558702, frozenset({'F', 'G'}): -6.964387533955919, frozenset({'P', 'G'}): -4.093125427935821, frozenset({'G', 'S'}): 0.025095008047759437, frozenset({'T', 'G'}): -0.1106532946136004, frozenset({'W', 'G'}): -1.8387260246055446, frozenset({'Y', 'G'}): 1.9566485392786603, frozenset({'V', 'G'}): -2.9687911870298893, frozenset({'B', 'G'}): -1.1402062740118437, frozenset({'G', 'Z'}): -3.2464145174673824, frozenset({'X', 'G'}): -3.0170689991830097, frozenset({'*', 'G'}): -5.250984467397647, frozenset({'H'}): 11.143742228362603, frozenset({'I', 'H'}): -1.5949500061459743, frozenset({'L', 'H'}): -0.019783201658417834, frozenset({'K', 'H'}): 1.67849632529376, frozenset({'M', 'H'}): -3.5740845474670384, frozenset({'F', 'H'}): 0.4637521663338817, frozenset({'P', 'H'}): -0.7035361787221218, frozenset({'S', 'H'}): -1.5984787429390024, frozenset({'T', 'H'}): -1.938429500457846, frozenset({'W', 'H'}): -2.557009932066351, frozenset({'Y', 'H'}): 4.666593735407746, frozenset({'V', 'H'}): -7.320525581397418, frozenset({'B', 'H'}): 0.8165794661828669, frozenset({'Z', 'H'}): -0.04283877636596878, frozenset({'X', 'H'}): -1.4607111341632255, frozenset({'*', 'H'}): -3.052205734995579, frozenset({'I'}): 6.026492725483826, frozenset({'L', 'I'}): 3.5854230528851887, frozenset({'K', 'I'}): -2.2054019618168574, frozenset({'M', 'I'}): -0.5964573513579547, frozenset({'F', 'I'}): -0.1039915091262531, frozenset({'P', 'I'}): -2.018552483278922, frozenset({'S', 'I'}): -1.205130360674216, frozenset({'T', 'I'}): 0.9198522960633463, frozenset({'W', 'I'}): -5.079681273137933, frozenset({'Y', 'I'}): -0.36889795042149875, frozenset({'V', 'I'}): 4.26747851271077, frozenset({'B', 'I'}): -5.272031068378678, frozenset({'Z', 'I'}): -0.19586242721382607, frozenset({'X', 'I'}): -3.458827689209114, frozenset({'*', 'I'}): -2.803487754254764, frozenset({'L'}): 9.043938157557422, frozenset({'K', 'L'}): -7.8002616172434, frozenset({'M', 'L'}): 5.083712385443878, frozenset({'F', 'L'}): -0.5740343518290176, frozenset({'P', 'L'}): -3.7146989381783317, frozenset({'S', 'L'}): -4.239896871983969, frozenset({'T', 'L'}): 0.8771282793840245, frozenset({'W', 'L'}): -5.196268572485334, frozenset({'Y', 'L'}): -0.4935577324125733, frozenset({'V', 'L'}): 1.9001624006663322, frozenset({'B', 'L'}): -3.763168181317142, frozenset({'Z', 'L'}): -2.739776624336169, frozenset({'X', 'L'}): -0.19950299634182295, frozenset({'*', 'L'}): -6.4175216261089005, frozenset({'K'}): 10.08667483656592, frozenset({'M', 'K'}): -0.6927691798779806, frozenset({'F', 'K'}): -4.759704845334771, frozenset({'P', 'K'}): 0.34712796104826843, frozenset({'S', 'K'}): -0.2704423332797384, frozenset({'T', 'K'}): -0.4761158016082522, frozenset({'W', 'K'}): -6.866537460124097, frozenset({'Y', 'K'}): -1.0237086340374195, frozenset({'V', 'K'}): -0.3486218117036433, frozenset({'B', 'K'}): -2.798209995444618, frozenset({'Z', 'K'}): 2.4708780505767733, frozenset({'X', 'K'}): 0.7675490913727177, frozenset({'*', 'K'}): -4.728947476418444, frozenset({'M'}): 6.246915889026265, frozenset({'M', 'F'}): 1.353937150902354, frozenset({'M', 'P'}): -3.7643566133727924, frozenset({'M', 'S'}): 1.2874525228010498, frozenset({'T', 'M'}): -1.3732727251419001, frozenset({'W', 'M'}): -4.230152576345701, frozenset({'M', 'Y'}): -0.8009273840839023, frozenset({'M', 'V'}): -0.4763439062375804, frozenset({'M', 'B'}): -4.716601698134525, frozenset({'M', 'Z'}): -0.7138730322792228, frozenset({'M', 'X'}): -2.2920830540270023, frozenset({'M', '*'}): -6.939592896416732, frozenset({'F'}): 7.42862301883086, frozenset({'P', 'F'}): -2.086519462453207, frozenset({'F', 'S'}): -1.891350942480767, frozenset({'T', 'F'}): -1.0127871449888537, frozenset({'W', 'F'}): 2.2011163102253173, frozenset({'F', 'Y'}): 4.93682226988528, frozenset({'F', 'V'}): -0.9266612231014327, frozenset({'F', 'B'}): -5.48105498776409, frozenset({'F', 'Z'}): -4.112884256631109, frozenset({'F', 'X'}): -3.456933913331082, frozenset({'F', '*'}): -4.650106917455657, frozenset({'P'}): 13.004085996355053, frozenset({'P', 'S'}): -0.19480543332812694, frozenset({'T', 'P'}): 2.602638687711371, frozenset({'W', 'P'}): -3.2488432072098106, frozenset({'P', 'Y'}): -1.6175754190470848, frozenset({'P', 'V'}): -9.826136248301054, frozenset({'P', 'B'}): -1.2185892730467476, frozenset({'P', 'Z'}): -1.5324102832036466, frozenset({'P', 'X'}): -1.5276490260639661, frozenset({'P', '*'}): -5.520535254570479, frozenset({'S'}): 5.295632993807909, frozenset({'T', 'S'}): 3.693487779493287, frozenset({'W', 'S'}): -3.385274503104122, frozenset({'Y', 'S'}): -2.1577305194442378, frozenset({'V', 'S'}): -0.8960070140720803, frozenset({'B', 'S'}): 1.6254921328518397, frozenset({'Z', 'S'}): 3.4346882200937974, frozenset({'X', 'S'}): 1.0600506181193992, frozenset({'*', 'S'}): -6.67270057782965, frozenset({'T'}): 1.9342988489947783, frozenset({'T', 'W'}): -3.3381358295425354, frozenset({'T', 'Y'}): -5.348928803362861, frozenset({'T', 'V'}): 6.651144138114335, frozenset({'T', 'B'}): -0.8582421413192659, frozenset({'T', 'Z'}): -0.9956739842708253, frozenset({'T', 'X'}): -0.2614592856734158, frozenset({'T', '*'}): -6.110530008191068, frozenset({'W'}): 15.173916064832728, frozenset({'W', 'Y'}): 0.8241639375249463, frozenset({'W', 'V'}): -0.6078328243615458, frozenset({'W', 'B'}): -5.117410303886466, frozenset({'W', 'Z'}): -5.5175696393099845, frozenset({'W', 'X'}): -2.9234815562625625, frozenset({'W', '*'}): -6.1543227202704225, frozenset({'Y'}): 7.272776874570527, frozenset({'V', 'Y'}): -1.9968742740458172, frozenset({'B', 'Y'}): -6.211767552794179, frozenset({'Y', 'Z'}): -2.7866440330725712, frozenset({'X', 'Y'}): -2.2547320574889405, frozenset({'*', 'Y'}): -4.695418267947483, frozenset({'V'}): 7.729388070582313, frozenset({'B', 'V'}): 1.1482090992232752, frozenset({'V', 'Z'}): 1.573767121345507, frozenset({'X', 'V'}): -3.414281558261875, frozenset({'*', 'V'}): -5.61349838747449, frozenset({'B'}): 4.23568436226361, frozenset({'B', 'Z'}): 0.4219661945748011, frozenset({'X', 'B'}): 0.6875555076504962, frozenset({'*', 'B'}): -6.755126667830513, frozenset({'Z'}): 4.162632990471789, frozenset({'X', 'Z'}): 3.016419066447877, frozenset({'*', 'Z'}): -2.2709832585908463, frozenset({'X'}): -3.0216989746275336, frozenset({'X', '*'}): -5.652772430273215, frozenset({'*'}): 1.7940778008261524}, 2.66: {frozenset({'A'}): -0.9604608739233778, frozenset({'R', 'A'}): -0.8261256472935974, frozenset({'N', 'A'}): -4.230455419577073, frozenset({'D', 'A'}): -2.777251140246369, frozenset({'C', 'A'}): -0.17322381615237714, frozenset({'A', 'Q'}): -1.5862842967754607, frozenset({'E', 'A'}): 0.6224942380593331, frozenset({'G', 'A'}): 5.656308170678487, frozenset({'A', 'H'}): -3.134277374719485, frozenset({'A', 'I'}): 0.35476539607258195, frozenset({'A', 'L'}): -4.980346822042449, frozenset({'A', 'K'}): -0.4838171702813375, frozenset({'M', 'A'}): 1.5218823694434451, frozenset({'F', 'A'}): -1.5593744008659758, frozenset({'P', 'A'}): -1.4826198329040001, frozenset({'A', 'S'}): -0.3043703836489239, frozenset({'T', 'A'}): -0.11790787366322653, frozenset({'W', 'A'}): -4.108763767434972, frozenset({'Y', 'A'}): -3.3141616248081633, frozenset({'V', 'A'}): 1.7092107238913197, frozenset({'B', 'A'}): 3.8024075319860406, frozenset({'Z', 'A'}): 0.9145816164290617, frozenset({'X', 'A'}): -0.6411162762505209, frozenset({'*', 'A'}): -3.9819606059090518, frozenset({'R'}): 9.852314795286564, frozenset({'N', 'R'}): -2.796768151855934, frozenset({'R', 'D'}): -3.80679727186654, frozenset({'C', 'R'}): -5.542944086869951, frozenset({'R', 'Q'}): -0.8688695715240682, frozenset({'E', 'R'}): -3.140769643318869, frozenset({'R', 'G'}): -5.8450416402481205, frozenset({'R', 'H'}): -4.562356624355667, frozenset({'R', 'I'}): -1.4109531813517988, frozenset({'R', 'L'}): 3.6695971080554948, frozenset({'R', 'K'}): 0.8781603245848286, frozenset({'M', 'R'}): -3.8085108905039613, frozenset({'R', 'F'}): -7.681176203489867, frozenset({'P', 'R'}): -2.0415821798854568, frozenset({'R', 'S'}): -4.073720448128529, frozenset({'T', 'R'}): 0.16347167706454713, frozenset({'W', 'R'}): -1.3983714869160904, frozenset({'R', 'Y'}): 1.2045599464547068, frozenset({'R', 'V'}): -1.0670350627228444, frozenset({'R', 'B'}): -0.47465608167951523, frozenset({'R', 'Z'}): -0.9018430175720609, frozenset({'R', 'X'}): 0.5899171059983487, frozenset({'R', '*'}): -0.9550857158674539, frozenset({'N'}): 8.720315759602475, frozenset({'N', 'D'}): 4.882981406173582, frozenset({'N', 'C'}): -0.4224998964710436, frozenset({'N', 'Q'}): -2.6317338245898414, frozenset({'N', 'E'}): 0.8967502820712034, frozenset({'N', 'G'}): -2.0939329130376203, frozenset({'N', 'H'}): -1.3764112298045372, frozenset({'N', 'I'}): -5.9907464496123275, frozenset({'N', 'L'}): -7.814667867600566, frozenset({'N', 'K'}): -3.684100778460886, frozenset({'N', 'M'}): -1.0174935032433925, frozenset({'N', 'F'}): -2.3009911815286213, frozenset({'N', 'P'}): -5.648114629138218, frozenset({'N', 'S'}): -0.7977588515795897, frozenset({'N', 'T'}): -0.45995805559104774, frozenset({'N', 'W'}): -4.201004291279757, frozenset({'N', 'Y'}): -0.9613052764069768, frozenset({'N', 'V'}): -1.8488160357820165, frozenset({'N', 'B'}): 0.4210637358905278, frozenset({'N', 'Z'}): 0.9119227822719029, frozenset({'N', 'X'}): 1.3657286699185562, frozenset({'N', '*'}): -4.697010533138557, frozenset({'D'}): 9.383295569945812, frozenset({'C', 'D'}): -4.172079176466722, frozenset({'D', 'Q'}): 0.2598572903708486, frozenset({'E', 'D'}): 2.6373991835651367, frozenset({'G', 'D'}): -0.8396674553437539, frozenset({'D', 'H'}): 2.29261262968111, frozenset({'D', 'I'}): -7.869193483157404, frozenset({'D', 'L'}): -8.791565763664424, frozenset({'D', 'K'}): -1.6718361921147327, frozenset({'M', 'D'}): -3.644485181868631, frozenset({'F', 'D'}): -2.7541080092349883, frozenset({'P', 'D'}): 0.37926170631482337, frozenset({'D', 'S'}): 1.4686495316534556, frozenset({'T', 'D'}): -2.2335474294435, frozenset({'W', 'D'}): -2.0414846035149443, frozenset({'Y', 'D'}): 0.8073848206872472, frozenset({'V', 'D'}): 1.1623217961551369, frozenset({'B', 'D'}): 3.5386833426241653, frozenset({'D', 'Z'}): 2.7451111161554334, frozenset({'X', 'D'}): 1.2559664654260108, frozenset({'*', 'D'}): -8.995800899605536, frozenset({'C'}): 11.493874571574764, frozenset({'C', 'Q'}): -3.5920218577251113, frozenset({'C', 'E'}): -1.499676921644285, frozenset({'C', 'G'}): 0.7855553402493834, frozenset({'C', 'H'}): -4.6678457175057515, frozenset({'C', 'I'}): -2.331352084635376, frozenset({'C', 'L'}): 2.82563170505984, frozenset({'C', 'K'}): -2.2916915839568035, frozenset({'C', 'M'}): 1.0440626384876714, frozenset({'C', 'F'}): -6.726898564029666, frozenset({'C', 'P'}): -6.211365106609844, frozenset({'C', 'S'}): -2.038827578397265, frozenset({'C', 'T'}): -0.7954073757383077, frozenset({'C', 'W'}): -5.82476483512816, frozenset({'C', 'Y'}): -6.306926460141501, frozenset({'C', 'V'}): -1.0354796413413485, frozenset({'C', 'B'}): -1.0649961677331374, frozenset({'C', 'Z'}): -1.3587798273014253, frozenset({'C', 'X'}): -2.0397552715441893, frozenset({'C', '*'}): -4.835610439705201, frozenset({'Q'}): 8.093374104698634, frozenset({'E', 'Q'}): 4.873865215386672, frozenset({'G', 'Q'}): -0.3287574087282563, frozenset({'H', 'Q'}): -0.6837996912806913, frozenset({'I', 'Q'}): -6.165062443615902, frozenset({'L', 'Q'}): -2.684386720651448, frozenset({'K', 'Q'}): -1.1029834793927615, frozenset({'M', 'Q'}): -0.7139697951406185, frozenset({'F', 'Q'}): -4.698037602441765, frozenset({'P', 'Q'}): -5.038276148282252, frozenset({'S', 'Q'}): 4.832153636091956, frozenset({'T', 'Q'}): -3.2906179034945713, frozenset({'W', 'Q'}): -4.039878960481273, frozenset({'Y', 'Q'}): -1.9201676386036743, frozenset({'V', 'Q'}): -4.014042421420464, frozenset({'B', 'Q'}): -1.3079945822408199, frozenset({'Z', 'Q'}): 2.558376166887056, frozenset({'X', 'Q'}): -1.452057547227628, frozenset({'*', 'Q'}): -4.582537003217962, frozenset({'E'}): 11.365553367527841, frozenset({'E', 'G'}): -7.202380168831123, frozenset({'E', 'H'}): 0.5819457866722443, frozenset({'E', 'I'}): -4.395182257510634, frozenset({'E', 'L'}): -4.358032308581565, frozenset({'E', 'K'}): -3.700532286212421, frozenset({'E', 'M'}): 0.2188042044611309, frozenset({'E', 'F'}): -1.495685584483055, frozenset({'E', 'P'}): -3.389644145670214, frozenset({'E', 'S'}): 3.236963966150072, frozenset({'E', 'T'}): 0.2636790783458025, frozenset({'E', 'W'}): -2.3187736261755987, frozenset({'E', 'Y'}): -3.707841696762128, frozenset({'E', 'V'}): -2.8113343650576503, frozenset({'E', 'B'}): -0.5062613442767739, frozenset({'E', 'Z'}): 4.112559201947675, frozenset({'E', 'X'}): -0.3765444385462334, frozenset({'E', '*'}): -1.5162637435751294, frozenset({'G'}): 7.118524890648001, frozenset({'G', 'H'}): -4.1121267454079815, frozenset({'G', 'I'}): -6.745513018057448, frozenset({'G', 'L'}): -5.566069733774866, frozenset({'G', 'K'}): 2.370249778935222, frozenset({'M', 'G'}): -4.364329700940815, frozenset({'F', 'G'}): -3.8753065911393856, frozenset({'P', 'G'}): -4.171883655402023, frozenset({'G', 'S'}): 0.33963598527245636, frozenset({'T', 'G'}): -3.2997823551979346, frozenset({'W', 'G'}): -3.984652359480398, frozenset({'Y', 'G'}): 1.294950406085941, frozenset({'V', 'G'}): 1.737755123659269, frozenset({'B', 'G'}): -0.24357119971728836, frozenset({'G', 'Z'}): -2.3164744806451267, frozenset({'X', 'G'}): -0.6179434742541173, frozenset({'*', 'G'}): -4.328215108445806, frozenset({'H'}): 10.494571365789978, frozenset({'I', 'H'}): -4.13264126369633, frozenset({'L', 'H'}): 1.7870752561206558, frozenset({'K', 'H'}): -3.19507353576458, frozenset({'M', 'H'}): 0.35200717792637537, frozenset({'F', 'H'}): 0.10870344834492296, frozenset({'P', 'H'}): -0.7439429924561187, frozenset({'S', 'H'}): -1.2143181647716343, frozenset({'T', 'H'}): 0.2690313834448359, frozenset({'W', 'H'}): -2.8115192117830134, frozenset({'Y', 'H'}): 0.7582817960761445, frozenset({'V', 'H'}): -4.927269465450194, frozenset({'B', 'H'}): -2.052863810198332, frozenset({'Z', 'H'}): 2.3430016448075635, frozenset({'X', 'H'}): -0.9031833145386005, frozenset({'*', 'H'}): -2.150556256140774, frozenset({'I'}): 5.4994147960016155, frozenset({'L', 'I'}): 1.3448196764946525, frozenset({'K', 'I'}): -2.9295443669083605, frozenset({'M', 'I'}): -1.3918836858065688, frozenset({'F', 'I'}): -0.04386156461528157, frozenset({'P', 'I'}): -2.209930868537392, frozenset({'S', 'I'}): -3.3230984961580448, frozenset({'T', 'I'}): -1.5618827099788686, frozenset({'W', 'I'}): -3.411480889399461, frozenset({'Y', 'I'}): -2.1152269092884937, frozenset({'V', 'I'}): 2.8730929089988786, frozenset({'B', 'I'}): -5.089513304957033, frozenset({'Z', 'I'}): -1.964825756363636, frozenset({'X', 'I'}): -6.305416117802806, frozenset({'*', 'I'}): -3.547517192880498, frozenset({'L'}): 4.118856981956718, frozenset({'K', 'L'}): -8.949011285262316, frozenset({'M', 'L'}): 4.447665521398762, frozenset({'F', 'L'}): 1.1415664887071704, frozenset({'P', 'L'}): -3.5160832638959993, frozenset({'S', 'L'}): -3.0542234384217393, frozenset({'T', 'L'}): 0.2014246444963248, frozenset({'W', 'L'}): -6.63368411159506, frozenset({'Y', 'L'}): -2.228492177200623, frozenset({'V', 'L'}): 3.8852907531177143, frozenset({'B', 'L'}): -5.122969799773693, frozenset({'Z', 'L'}): -5.183964440694681, frozenset({'X', 'L'}): 0.8464469139335796, frozenset({'*', 'L'}): -7.731088832789322, frozenset({'K'}): 9.398351294419271, frozenset({'M', 'K'}): -3.576324595778242, frozenset({'F', 'K'}): -4.312386242711285, frozenset({'P', 'K'}): 0.943446950746784, frozenset({'S', 'K'}): 1.0384611915412905, frozenset({'T', 'K'}): -0.07409099531140906, frozenset({'W', 'K'}): -4.611354967313081, frozenset({'Y', 'K'}): -2.8501628357907567, frozenset({'V', 'K'}): -0.7968164106555669, frozenset({'B', 'K'}): -2.88778544359047, frozenset({'Z', 'K'}): 5.152815138479548, frozenset({'X', 'K'}): 1.6747646293240028, frozenset({'*', 'K'}): -2.618596787278133, frozenset({'M'}): 6.104564734501285, frozenset({'M', 'F'}): 2.4682574944778164, frozenset({'M', 'P'}): -2.4406940436634046, frozenset({'M', 'S'}): 2.4389742518224997, frozenset({'T', 'M'}): -2.877693389002573, frozenset({'W', 'M'}): -3.352682145212582, frozenset({'M', 'Y'}): -1.4747291084169953, frozenset({'M', 'V'}): 2.3830766149732794, frozenset({'M', 'B'}): -0.8248485969598292, frozenset({'M', 'Z'}): -2.1264277002966354, frozenset({'M', 'X'}): -5.5445570388046574, frozenset({'M', '*'}): -6.610996693951609, frozenset({'F'}): 9.337346070637532, frozenset({'P', 'F'}): -2.497513116762233, frozenset({'F', 'S'}): -2.160184149492971, frozenset({'T', 'F'}): -2.498606108137005, frozenset({'W', 'F'}): 1.9749987287772024, frozenset({'F', 'Y'}): 2.9004189735026626, frozenset({'F', 'V'}): -2.019359713402375, frozenset({'F', 'B'}): -3.8625639672062166, frozenset({'F', 'Z'}): -6.37276379789579, frozenset({'F', 'X'}): -5.948622969125975, frozenset({'F', '*'}): -4.140114126458038, frozenset({'P'}): 12.892014729328464, frozenset({'P', 'S'}): -0.033677658553310674, frozenset({'T', 'P'}): 5.53540051260156, frozenset({'W', 'P'}): -4.423994761648547, frozenset({'P', 'Y'}): -3.74073967874575, frozenset({'P', 'V'}): -9.872433307314298, frozenset({'P', 'B'}): 1.5851535461567345, frozenset({'P', 'Z'}): -1.6322793258581636, frozenset({'P', 'X'}): -4.061584813744939, frozenset({'P', '*'}): -1.512425026442458, frozenset({'S'}): 4.2894166503724875, frozenset({'T', 'S'}): 4.167282932547652, frozenset({'W', 'S'}): -4.885367135359777, frozenset({'Y', 'S'}): -3.7406382565830856, frozenset({'V', 'S'}): 1.4249711000227516, frozenset({'B', 'S'}): 2.422210729287044, frozenset({'Z', 'S'}): 1.9446162108798228, frozenset({'X', 'S'}): 2.0614780074374957, frozenset({'*', 'S'}): -4.01722850703091, frozenset({'T'}): 6.211664563498797, frozenset({'T', 'W'}): -2.517242307607378, frozenset({'T', 'Y'}): -5.634995148911678, frozenset({'T', 'V'}): 1.6151096474723141, frozenset({'T', 'B'}): -2.3546280143816882, frozenset({'T', 'Z'}): -0.4401817076984902, frozenset({'T', 'X'}): 1.7057087962800135, frozenset({'T', '*'}): -2.096505377437495, frozenset({'W'}): 16.54377799006266, frozenset({'W', 'Y'}): 1.4745735801463014, frozenset({'W', 'V'}): -1.2768836906117427, frozenset({'W', 'B'}): -6.205922800040731, frozenset({'W', 'Z'}): -3.8493415799256354, frozenset({'W', 'X'}): -3.198050639414097, frozenset({'W', '*'}): -3.0644163972901106, frozenset({'Y'}): 10.63646175759571, frozenset({'V', 'Y'}): -0.7638520182040056, frozenset({'B', 'Y'}): -5.347555736192861, frozenset({'Y', 'Z'}): 0.0003515732466899957, frozenset({'X', 'Y'}): 1.0901936986941447, frozenset({'*', 'Y'}): -5.25374664915417, frozenset({'V'}): 7.0690095784709746, frozenset({'B', 'V'}): -2.7929344335586617, frozenset({'V', 'Z'}): -2.5589402167941944, frozenset({'X', 'V'}): -0.3710105537496253, frozenset({'*', 'V'}): -4.735855800111747, frozenset({'B'}): 2.4835642165754237, frozenset({'B', 'Z'}): 0.8509296753036719, frozenset({'X', 'B'}): -3.249020950702728, frozenset({'*', 'B'}): -5.549074256403812, frozenset({'Z'}): 3.4657402566754842, frozenset({'X', 'Z'}): 0.790097488406051, frozenset({'*', 'Z'}): -1.7621488031913597, frozenset({'X'}): -3.49829883227405, frozenset({'X', '*'}): -3.220455988356539, frozenset({'*'}): 0.8238368825930584}}\n"
     ]
    }
   ],
   "source": [
    "print(library)"
   ]
  },
  {
   "cell_type": "code",
   "execution_count": null,
   "metadata": {},
   "outputs": [],
   "source": []
  },
  {
   "cell_type": "code",
   "execution_count": null,
   "metadata": {},
   "outputs": [],
   "source": [
    "print(objectiveMeans2)"
   ]
  },
  {
   "cell_type": "code",
   "execution_count": null,
   "metadata": {},
   "outputs": [],
   "source": []
  }
 ],
 "metadata": {
  "kernelspec": {
   "display_name": "Python 3",
   "language": "python",
   "name": "python3"
  },
  "language_info": {
   "codemirror_mode": {
    "name": "ipython",
    "version": 3
   },
   "file_extension": ".py",
   "mimetype": "text/x-python",
   "name": "python",
   "nbconvert_exporter": "python",
   "pygments_lexer": "ipython3",
   "version": "3.7.3"
  }
 },
 "nbformat": 4,
 "nbformat_minor": 4
}
