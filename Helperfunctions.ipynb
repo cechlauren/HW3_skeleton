{
 "cells": [
  {
   "cell_type": "code",
   "execution_count": 1,
   "metadata": {},
   "outputs": [],
   "source": [
    "from hw3align.sequences import *\n",
    "from hw3align.getmatrix import blosum50\n",
    "from hw3align.getmatrix import blosum62\n",
    "from hw3align.getmatrix import pam100\n",
    "from hw3align.getmatrix import pam250\n",
    "from hw3align.getmatrix import matio\n",
    "from hw3align.getmatrix import matio\n",
    "#from hw3align.getmatrix import optblosum50\n",
    "from hw3align.optimalmatrix import *\n",
    "from hw3align.optimalgaps import *\n",
    "from hw3align.smithwaterman import sw\n",
    "from hw3align.getseq import *\n",
    "from hw3align.roc import *\n",
    "\n",
    "from hw3align.optimalmatrix import *\n",
    "import sys\n",
    "import matplotlib.pyplot as plt\n",
    "import sklearn.metrics as skm"
   ]
  },
  {
   "cell_type": "code",
   "execution_count": null,
   "metadata": {},
   "outputs": [],
   "source": [
    "#optimizeMatrix_geneticAlg(blosum50, mutationChance, mutationAmount,\n",
    "\t#selectivePressure, N, totalStepsToStop, stepsWithNoImprovement,\n",
    "\t#librarySize, gap_start, gap_extend, true_pos_align, true_neg_align):"
   ]
  },
  {
   "cell_type": "code",
   "execution_count": 2,
   "metadata": {},
   "outputs": [],
   "source": [
    "true_pos_align, true_neg_align = getAlignments(scorematrix=blosum50, gap_start=-8, gap_extend= -3)"
   ]
  },
  {
   "cell_type": "code",
   "execution_count": 3,
   "metadata": {},
   "outputs": [],
   "source": [
    "true_pos_align2, true_neg_align2 = getAlignments(scorematrix=matio, gap_start=-8, gap_extend= -3)"
   ]
  },
  {
   "cell_type": "code",
   "execution_count": 4,
   "metadata": {},
   "outputs": [],
   "source": [
    "pop, scores, library, objectiveMeans = optimizeMatrix_geneticAlg(blosum50, 1, 1, 2, 10, 5, 5, 3, -8, -3, true_pos_align, true_neg_align)\n",
    "\n"
   ]
  },
  {
   "cell_type": "code",
   "execution_count": 5,
   "metadata": {},
   "outputs": [
    {
     "name": "stdout",
     "output_type": "stream",
     "text": [
      "[2.12, 2.04, 2.2199999999999998, 2.2199999999999998, 2.04, 2.1, 2.1, 2.4000000000000004, 2.36, 2.38]\n"
     ]
    }
   ],
   "source": [
    "print(scores)"
   ]
  },
  {
   "cell_type": "code",
   "execution_count": 6,
   "metadata": {},
   "outputs": [
    {
     "name": "stdout",
     "output_type": "stream",
     "text": [
      "[2.0740000000000003, 1.952, 2.186, 2.19, 2.2540000000000004, 2.198]\n"
     ]
    }
   ],
   "source": [
    "print(objectiveMeans)"
   ]
  },
  {
   "cell_type": "code",
   "execution_count": 7,
   "metadata": {},
   "outputs": [],
   "source": [
    "pop2, scores2, library2, objectiveMeans2 = optimizeMatrix_geneticAlg(blosum50, 1, 1, 2, 10, 5, 5, 3, -8, -3, true_pos_align, true_neg_align)\n",
    "\n",
    "\n"
   ]
  },
  {
   "cell_type": "code",
   "execution_count": 8,
   "metadata": {},
   "outputs": [
    {
     "name": "stdout",
     "output_type": "stream",
     "text": [
      "[2.1799999999999997, 1.9600000000000002, 2.1799999999999997, 2.1799999999999997, 1.9000000000000001, 2.0, 1.98, 2.3600000000000003, 2.2, 2.1]\n"
     ]
    }
   ],
   "source": [
    "print(scores2)"
   ]
  },
  {
   "cell_type": "code",
   "execution_count": 9,
   "metadata": {},
   "outputs": [
    {
     "name": "stdout",
     "output_type": "stream",
     "text": [
      "[2.0919999999999996, 2.096, 2.0340000000000003, 2.124, 2.062, 2.104]\n"
     ]
    }
   ],
   "source": [
    "print(objectiveMeans2)"
   ]
  },
  {
   "cell_type": "code",
   "execution_count": null,
   "metadata": {},
   "outputs": [],
   "source": [
    "print(len(objectiveMeans))"
   ]
  },
  {
   "cell_type": "code",
   "execution_count": null,
   "metadata": {},
   "outputs": [],
   "source": []
  }
 ],
 "metadata": {
  "kernelspec": {
   "display_name": "Python 3",
   "language": "python",
   "name": "python3"
  },
  "language_info": {
   "codemirror_mode": {
    "name": "ipython",
    "version": 3
   },
   "file_extension": ".py",
   "mimetype": "text/x-python",
   "name": "python",
   "nbconvert_exporter": "python",
   "pygments_lexer": "ipython3",
   "version": "3.7.3"
  }
 },
 "nbformat": 4,
 "nbformat_minor": 4
}
